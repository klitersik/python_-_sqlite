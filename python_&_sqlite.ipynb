{
  "nbformat": 4,
  "nbformat_minor": 0,
  "metadata": {
    "colab": {
      "name": "python_&_sqlite.ipynb",
      "provenance": [],
      "collapsed_sections": []
    },
    "kernelspec": {
      "name": "python3",
      "display_name": "Python 3"
    },
    "language_info": {
      "name": "python"
    }
  },
  "cells": [
    {
      "cell_type": "code",
      "execution_count": null,
      "metadata": {
        "id": "83Cf5eAdb2rG"
      },
      "outputs": [],
      "source": [
        "import sqlite3\n",
        "import pandas as pd\n",
        "import datetime\n",
        "from datetime import datetime"
      ]
    },
    {
      "cell_type": "code",
      "source": [
        "connection = sqlite3.connect('flights.db')\n",
        "cursor = connection.cursor()"
      ],
      "metadata": {
        "id": "oIjqSQJtcEEs"
      },
      "execution_count": null,
      "outputs": []
    },
    {
      "cell_type": "code",
      "source": [
        "cursor.execute('''CREATE TABLE FlightLeg (\n",
        "    id INT PRIMARY KEY NOT NULL, \n",
        "    tailNumber text NOT NULL,\n",
        "    sourceAirportCode CHAR(3),\n",
        "    sourceCountryCode CHAR(3),\n",
        "    destinationAirportCode CHAR(3),\n",
        "    destinationCountryCode CHAR(3),\n",
        "    departureTimeUtc TEXT,\n",
        "    landingTimeUtc TEXT);''')"
      ],
      "metadata": {
        "id": "CkXuq0OfcO6h"
      },
      "execution_count": null,
      "outputs": []
    },
    {
      "cell_type": "code",
      "source": [
        "url = \"https://bitpeak.pl/datasets/flightlegs.csv\"\n",
        "flightlegs = pd.read_csv(url)\n",
        "flightlegs"
      ],
      "metadata": {
        "id": "zHekAPWQdsbW"
      },
      "execution_count": null,
      "outputs": []
    },
    {
      "cell_type": "code",
      "source": [
        "insert_data = \"INSERT INTO FlightLeg (id,tailNumber,sourceAirportCode,sourceCountryCode,destinationAirportCode,destinationCountryCode,departureTimeUtc,landingTimeUtc) \\\n",
        "      VALUES (?,?,?,?,?,?,?,? )\"\n",
        "for i in range(len(flightlegs.index)):\n",
        "    string = flightlegs.iloc[i][0]\n",
        "    data = string.split(\";\")\n",
        "    data_tuple = (i,data[0],data[1],data[2],data[3],data[4],data[5],data[6])\n",
        "    cursor.execute(insert_data, data_tuple)\n",
        "    connection.commit()"
      ],
      "metadata": {
        "id": "nWWlZPzLf1FW"
      },
      "execution_count": null,
      "outputs": []
    },
    {
      "cell_type": "code",
      "source": [
        "#cursor.execute('SELECT * FROM FlightLeg')\n",
        "#for row in cursor.fetchall():\n",
        "#     print(row)"
      ],
      "metadata": {
        "id": "YTvM5wjEjNmK"
      },
      "execution_count": null,
      "outputs": []
    },
    {
      "cell_type": "code",
      "source": [
        "addColumn_flightDuration = \"ALTER TABLE FlightLeg ADD COLUMN flightDuration int\"\n",
        "cursor.execute(addColumn_flightDuration)\n",
        "connection.commit()"
      ],
      "metadata": {
        "id": "xXhwCpnMns4b"
      },
      "execution_count": null,
      "outputs": []
    },
    {
      "cell_type": "code",
      "source": [
        "addColumn_flightType = \"ALTER TABLE FlightLeg ADD COLUMN flightType CHAR(1)\"\n",
        "cursor.execute(addColumn_flightType)\n",
        "connection.commit()"
      ],
      "metadata": {
        "id": "wato_wlnn8Dq"
      },
      "execution_count": null,
      "outputs": []
    },
    {
      "cell_type": "code",
      "source": [
        "update_data = \"\"\"Update FlightLeg set flightDuration = ? where id = ?\"\"\"\n",
        "for i in range(len(flightlegs.index)):\n",
        "    string = flightlegs.iloc[i][0]\n",
        "    data = string.split(\";\")\n",
        "    date_start = datetime.strptime(data[5], '%Y-%m-%d %H:%M:%S')\n",
        "    date_stop = datetime.strptime(data[6], '%Y-%m-%d %H:%M:%S')\n",
        "    date_diff = round((date_stop - date_start).total_seconds() / 60)\n",
        "    time = (date_diff,i)\n",
        "    cursor.execute(update_data, time)\n",
        "connection.commit()"
      ],
      "metadata": {
        "id": "A2z56-T7oyRy"
      },
      "execution_count": null,
      "outputs": []
    },
    {
      "cell_type": "code",
      "source": [
        "#cursor.execute('SELECT * FROM FlightLeg')\n",
        "#for row in cursor.fetchall():\n",
        "#     print(row)"
      ],
      "metadata": {
        "id": "rDBKw-UqtXBK"
      },
      "execution_count": null,
      "outputs": []
    },
    {
      "cell_type": "code",
      "source": [
        "update_data = \"\"\"Update FlightLeg set flightType = ? where id = ?\"\"\"\n",
        "for i in range(len(flightlegs.index)):\n",
        "    string = flightlegs.iloc[i][0]\n",
        "    data = string.split(\";\")\n",
        "    if data[2] == data[4]:\n",
        "        code = \"D\"\n",
        "    else:\n",
        "        code = \"I\"\n",
        "    codes = (code,i)\n",
        "    cursor.execute(update_data, codes)\n",
        "connection.commit()"
      ],
      "metadata": {
        "id": "sY90_lm5ucvC"
      },
      "execution_count": null,
      "outputs": []
    },
    {
      "cell_type": "code",
      "source": [
        "#cursor.execute('SELECT * FROM FlightLeg WHERE flightType = \"D\" ')\n",
        "#for row in cursor.fetchall():\n",
        "#     print(row)"
      ],
      "metadata": {
        "id": "TcPf34TevmU_"
      },
      "execution_count": null,
      "outputs": []
    },
    {
      "cell_type": "code",
      "source": [
        "cursor.execute('SELECT tailNumber FROM FlightLeg GROUP BY tailNumber ORDER BY COUNT(tailNumber) DESC LIMIT 1')\n",
        "for row in cursor.fetchall():\n",
        "     print(\"Samolot który wykonał najwięcej lotów\",row[0])"
      ],
      "metadata": {
        "colab": {
          "base_uri": "https://localhost:8080/"
        },
        "id": "ir-angUUxKKb",
        "outputId": "a3154204-147f-43d2-b4dc-3d9fd49f6b26"
      },
      "execution_count": null,
      "outputs": [
        {
          "output_type": "stream",
          "name": "stdout",
          "text": [
            "Samolot który wykonał najwięcej lotów A6-ENE\n"
          ]
        }
      ]
    },
    {
      "cell_type": "code",
      "source": [
        "cursor.execute('SELECT tailNumber FROM FlightLeg GROUP BY tailNumber ORDER BY SUM(flightDuration) DESC LIMIT 1')\n",
        "for row in cursor.fetchall():\n",
        "     print(\"Samolot który przeleciał najwięcej minut\",row[0])"
      ],
      "metadata": {
        "colab": {
          "base_uri": "https://localhost:8080/"
        },
        "id": "kk9IoKydyr4k",
        "outputId": "6de01152-eac3-4ddc-cdd6-23869f607802"
      },
      "execution_count": null,
      "outputs": [
        {
          "output_type": "stream",
          "name": "stdout",
          "text": [
            "Samolot który przeleciał najwięcej minut A6-EVF\n"
          ]
        }
      ]
    },
    {
      "cell_type": "code",
      "source": [
        "cursor.execute('SELECT tailNumber,departureTimeUtc FROM FlightLeg WHERE flightType = \"D\" ORDER BY flightDuration DESC LIMIT 1')\n",
        "for row in cursor.fetchall():\n",
        "     print(\"Najdłuższy lot krajowy\",row)\n",
        "cursor.execute('SELECT tailNumber,departureTimeUtc FROM FlightLeg WHERE flightType = \"D\" ORDER BY flightDuration ASC LIMIT 1')\n",
        "for row in cursor.fetchall():\n",
        "     print(\"Najkrótszy lot krajowy\",row)"
      ],
      "metadata": {
        "colab": {
          "base_uri": "https://localhost:8080/"
        },
        "id": "NJb4f-swzPKE",
        "outputId": "30954995-8868-409f-b4e7-8363b79bd839"
      },
      "execution_count": null,
      "outputs": [
        {
          "output_type": "stream",
          "name": "stdout",
          "text": [
            "Najdłuższy lot krajowy ('A6-EES', '2021-11-30 09:20:00')\n",
            "Najkrótszy lot krajowy ('A6-ECH', '2021-11-30 09:32:00')\n"
          ]
        }
      ]
    },
    {
      "cell_type": "code",
      "source": [
        "cursor.execute('SELECT tailNumber,departureTimeUtc FROM FlightLeg WHERE flightType = \"I\" ORDER BY flightDuration DESC LIMIT 1')\n",
        "for row in cursor.fetchall():\n",
        "     print(\"Najdłuższy lot międzykrajowy\",row)\n",
        "cursor.execute('SELECT tailNumber,departureTimeUtc FROM FlightLeg WHERE flightType = \"I\" ORDER BY flightDuration ASC LIMIT 1')\n",
        "for row in cursor.fetchall():\n",
        "     print(\"Najkrótszy lot międzykrajowy\",row)"
      ],
      "metadata": {
        "colab": {
          "base_uri": "https://localhost:8080/"
        },
        "id": "Ct1T6p96zog6",
        "outputId": "196d5d52-05cf-4956-cc42-81fcc48b00bf"
      },
      "execution_count": null,
      "outputs": [
        {
          "output_type": "stream",
          "name": "stdout",
          "text": [
            "Najdłuższy lot międzykrajowy ('A6-EWH', '2021-11-29 06:32:00')\n",
            "Najkrótszy lot międzykrajowy ('A6-ENE', '2021-11-29 13:35:00')\n"
          ]
        }
      ]
    },
    {
      "cell_type": "code",
      "source": [
        "visited_name = []\n",
        "for i in range(len(flightlegs.index)):\n",
        "    counter = 0\n",
        "    string = flightlegs.iloc[i][0]\n",
        "    data = string.split(\";\")\n",
        "    name = data[0]\n",
        "    date_start = datetime.strptime(data[5], '%Y-%m-%d %H:%M:%S')\n",
        "    date_stop = datetime.strptime(data[6], '%Y-%m-%d %H:%M:%S')\n",
        "    for j in range(i+1,len(flightlegs.index)):\n",
        "        string2 = flightlegs.iloc[j][0]\n",
        "        data2 = string2.split(\";\")\n",
        "        name2 = data2[0]\n",
        "        if name not in visited_name:\n",
        "            if name == name2:\n",
        "                date_start2 = datetime.strptime(data2[5], '%Y-%m-%d %H:%M:%S')\n",
        "                date_stop2 = datetime.strptime(data2[6], '%Y-%m-%d %H:%M:%S')\n",
        "                if date_start >= date_start2 and date_start <= date_stop2:\n",
        "                    counter += 1\n",
        "                elif date_stop >= date_start2 and date_stop < date_stop2:\n",
        "                    counter += 1\n",
        "    visited_name.append(name)\n",
        "print(counter)"
      ],
      "metadata": {
        "colab": {
          "base_uri": "https://localhost:8080/"
        },
        "id": "yW0FHPoh1n9l",
        "outputId": "01ec4b88-7f83-45a9-fa89-155cfec6f0cf"
      },
      "execution_count": null,
      "outputs": [
        {
          "output_type": "stream",
          "name": "stdout",
          "text": [
            "0\n"
          ]
        }
      ]
    },
    {
      "cell_type": "code",
      "source": [
        "cursor.execute('SELECT tailNumber FROM FlightLeg GROUP BY tailNumber')\n",
        "names = []\n",
        "get_flights_by_name = \"\"\"SELECT * FROM FlightLeg WHERE tailNumber = ? ORDER BY departureTimeUtc ASC\"\"\"\n",
        "for row in cursor.fetchall():\n",
        "     names.append(row[0])\n",
        "\n",
        "flights = []\n",
        "for name in names:\n",
        "    cursor.execute(get_flights_by_name, (name,))\n",
        "    for row in cursor.fetchall():\n",
        "        flights.append(row)\n",
        "    best = 100000\n",
        "    for i in range(len(flights)):\n",
        "        for j in range(i,len(flights)):\n",
        "            date_start = datetime.strptime(flights[i][7], '%Y-%m-%d %H:%M:%S')\n",
        "            date_stop = datetime.strptime(flights[j][6], '%Y-%m-%d %H:%M:%S')\n",
        "            date_diff = round((date_stop - date_start).total_seconds() / 60)\n",
        "            if date_diff < best and date_diff > 0:\n",
        "                best = date_diff\n",
        "                name1 = flights[i]\n",
        "                name2 = flights[j]\n",
        "    flights.clear()\n",
        "    print(name1,name2,best)"
      ],
      "metadata": {
        "id": "FGnMcuxq9-RT"
      },
      "execution_count": null,
      "outputs": []
    }
  ]
}